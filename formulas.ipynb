{
 "cells": [
  {
   "cell_type": "markdown",
   "metadata": {},
   "source": [
    "# Formulas\n",
    "Some more explanations for the formulas in figure 1a.\n",
    "\n",
    "## Signaling functionality score calculation\n",
    "The $\\omega$ score for each protein $i$ is calculated as a weighted mean\n",
    "over the phosphorylation measurements $z_{js}$ on its neighbors. Starting\n",
    "from a simplified mean calculation we will arrive at the final formula\n",
    "in three steps.\n",
    "\n",
    "First we take the formula of the mean, then we rewrite it without changing\n",
    "its value. Lastly we can introduce the weights and arrive at the final formula.\n",
    "\n",
    "Let $n$ be the number of $z_{ij}$, then their mean is\n",
    "$$\\omega_i = \\frac {\\sum_{(c_{ij}, z_{js})} z_{js}} n$$\n",
    "In this formula all measurements contribute equally to the mean.\n",
    "\n",
    "We can rewrite this formula into a form that will help us later\n",
    "without changing its value.\n",
    "$$\\omega_i = \\frac {\\sum_{(c_{ij}, z_{js})} 1 \\cdot z_{js}} {\\sum_{(c_{ij}, z_{js})} 1}$$\n",
    "\n",
    "We can interpret this way to write the mean as giving every element the weight\n",
    "of $1$. We do however want to give the measurements weights according to the\n",
    "confidences in the interactions $c_{ij}$. By replacing the $1$ with $c_{ij}$\n",
    "we arrive at the final formula, a weighted mean.\n",
    "\n",
    "$$\\omega_i = \\frac {\\sum_{(c_{ij}, z_{js})} c_{ij} z_{js}} {\\sum_{(c_{ij}, z_{js})} c_{ij}}$$\n",
    "\n",
    "## Empirical $p$-value calculation\n",
    "$$p^+ = \\sum_r I\\{\\omega < \\omega_r\\} / r$$\n",
    "The empirical $p$-value is calculated by comparing the actual\n",
    "score $\\omega$ against scores generated from randomizations for\n",
    "the $\\omega_1, ..., \\omega_r$. The $I\\{\\omega < \\omega_r\\}$ function\n",
    "equals $1$ if $\\omega < \\omega_r$ and equals $0$ otherwise. The function\n",
    "effectively counts how many times the $\\omega_r$, generated from randomized\n",
    "data, is higher than the acutal $\\omega$. The counts\n",
    "$\\sum_r I\\{\\omega < \\omega_r\\}$ can reach a value between $0$ and $r$. To\n",
    "normalize these to a range between $0$ and $1$ we just divide by $r$.\n",
    "Scores that are worse that random will have a high count and therefore\n",
    "a $p$-value close to 1.\n",
    "\n",
    "The same rational is applied to obtain the second $p$-value for low scores.\n",
    "$$p^- = \\sum_r I\\{\\omega \\geq \\omega_r\\} / r = 1 - p^+$$\n"
   ]
  }
 ],
 "metadata": {
  "kernelspec": {
   "display_name": "Python 3",
   "language": "python",
   "name": "python3"
  },
  "language_info": {
   "codemirror_mode": {
    "name": "ipython",
    "version": 3
   },
   "file_extension": ".py",
   "mimetype": "text/x-python",
   "name": "python",
   "nbconvert_exporter": "python",
   "pygments_lexer": "ipython3",
   "version": "3.5.1"
  }
 },
 "nbformat": 4,
 "nbformat_minor": 0
}
